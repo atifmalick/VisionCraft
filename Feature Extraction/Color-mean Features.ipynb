{
 "cells": [
  {
   "cell_type": "code",
   "execution_count": 18,
   "id": "595f2b94",
   "metadata": {},
   "outputs": [],
   "source": [
    "import cv2\n",
    "import numpy as np"
   ]
  },
  {
   "cell_type": "code",
   "execution_count": 19,
   "id": "a3526e9a",
   "metadata": {},
   "outputs": [],
   "source": [
    "#img = cv2.imread('sky.jpg')\n",
    "img = cv2.imread(\"car.jpg\")\n",
    "height,width,depth = np.shape(img)"
   ]
  },
  {
   "cell_type": "code",
   "execution_count": 20,
   "id": "030bbc16",
   "metadata": {},
   "outputs": [
    {
     "name": "stdout",
     "output_type": "stream",
     "text": [
      "(139.83143581348682, 135.58898188731055, 137.38205101124782, 0.0)\n"
     ]
    }
   ],
   "source": [
    "means = cv2.mean(img)\n",
    "print(means)"
   ]
  },
  {
   "cell_type": "code",
   "execution_count": 21,
   "id": "f011285b",
   "metadata": {},
   "outputs": [
    {
     "name": "stdout",
     "output_type": "stream",
     "text": [
      "139\n",
      "135\n",
      "137\n"
     ]
    }
   ],
   "source": [
    "avgB = int(means[0])\n",
    "avgG = int(means[1])\n",
    "avgR = int(means[2])\n",
    "\n",
    "print(str(avgB))\n",
    "print(str(avgG))\n",
    "print(str(avgR))"
   ]
  },
  {
   "cell_type": "code",
   "execution_count": 22,
   "id": "61ca66bd",
   "metadata": {},
   "outputs": [],
   "source": [
    "cv2.imshow('holiday',img)\n",
    "cv2.waitKey(0)\n",
    "cv2.destroyAllWindows()"
   ]
  },
  {
   "cell_type": "code",
   "execution_count": null,
   "id": "e1c8dfd6",
   "metadata": {},
   "outputs": [],
   "source": []
  }
 ],
 "metadata": {
  "kernelspec": {
   "display_name": "Python 3 (ipykernel)",
   "language": "python",
   "name": "python3"
  },
  "language_info": {
   "codemirror_mode": {
    "name": "ipython",
    "version": 3
   },
   "file_extension": ".py",
   "mimetype": "text/x-python",
   "name": "python",
   "nbconvert_exporter": "python",
   "pygments_lexer": "ipython3",
   "version": "3.11.4"
  }
 },
 "nbformat": 4,
 "nbformat_minor": 5
}
