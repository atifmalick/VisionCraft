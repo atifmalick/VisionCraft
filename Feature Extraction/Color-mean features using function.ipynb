{
 "cells": [
  {
   "cell_type": "code",
   "execution_count": 34,
   "id": "18c5f7e6",
   "metadata": {},
   "outputs": [],
   "source": [
    "import cv2\n",
    "import numpy as np\n",
    "\n",
    "def colorFeature(img):\n",
    "    means = cv2.mean(img)\n",
    "    avgB = int(means[0])\n",
    "    avgG = int(means[1])\n",
    "    avgR = int(means[2])\n",
    "    return [avgB,avgG, avgR]\n",
    "\n",
    "def divideImage(img, blocks):\n",
    "    windowsize_r = int(img.shape[0] / blocks)\n",
    "    windowsize_c = int(img.shape[1] / blocks)\n",
    "\n",
    "    images = []\n",
    "    for r in range(0,img.shape[0], windowsize_r):\n",
    "        for c in range(0,img.shape[0], windowsize_c):\n",
    "            window = img[r:r+windowsize_r,c:c+windowsize_c]\n",
    "            images.append(window)\n",
    "\n",
    "    return images\n",
    "\n",
    "def describeImage(img, blocks):\n",
    "    featureVector = []\n",
    "    images = divideImage(img,blocks)\n",
    "    for image in images:\n",
    "        means = colorFeature(image)\n",
    "        featureVector.append( means[0] )\n",
    "        featureVector.append( means[1] )\n",
    "        featureVector.append( means[2] )\n",
    "\n",
    "    return featureVector\n",
    "\n",
    "def distance(x,y):\n",
    "\tsumSq=0.0\n",
    "\tfor i in range(len(x)):\n",
    "\t\tsumSq+=(x[i]-y[i])**2\n",
    "\treturn (sumSq**0.5)\n"
   ]
  },
  {
   "cell_type": "code",
   "execution_count": 37,
   "id": "67aafa84",
   "metadata": {},
   "outputs": [
    {
     "name": "stdout",
     "output_type": "stream",
     "text": [
      "[184, 153, 77, 174, 149, 92, 200, 172, 109, 172, 138, 48, 223, 194, 109, 234, 224, 193, 130, 111, 56, 209, 201, 160, 143, 143, 141, 124, 114, 91, 189, 188, 170, 114, 110, 108]\n"
     ]
    }
   ],
   "source": [
    "import cv2\n",
    "import numpy as np\n",
    "from utils import *\n",
    "\n",
    "img = cv2.imread(\"car.jpeg\")\n",
    "featureVector = describeImage(img,4)\n",
    "print(featureVector)"
   ]
  },
  {
   "cell_type": "code",
   "execution_count": null,
   "id": "ec449467",
   "metadata": {},
   "outputs": [],
   "source": []
  }
 ],
 "metadata": {
  "kernelspec": {
   "display_name": "Python 3 (ipykernel)",
   "language": "python",
   "name": "python3"
  },
  "language_info": {
   "codemirror_mode": {
    "name": "ipython",
    "version": 3
   },
   "file_extension": ".py",
   "mimetype": "text/x-python",
   "name": "python",
   "nbconvert_exporter": "python",
   "pygments_lexer": "ipython3",
   "version": "3.11.4"
  }
 },
 "nbformat": 4,
 "nbformat_minor": 5
}
