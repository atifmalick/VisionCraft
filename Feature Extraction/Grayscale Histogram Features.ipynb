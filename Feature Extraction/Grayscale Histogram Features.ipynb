{
 "cells": [
  {
   "cell_type": "code",
   "execution_count": 1,
   "id": "d82c1487",
   "metadata": {},
   "outputs": [],
   "source": [
    "import cv2\n",
    "import numpy as np"
   ]
  },
  {
   "cell_type": "code",
   "execution_count": 8,
   "id": "90ce13d6",
   "metadata": {},
   "outputs": [],
   "source": [
    "img = cv2.imread('gray.jpeg',0)\n",
    "new_width = 800\n",
    "new_height = 600\n",
    "\n",
    "# Resize the image\n",
    "resized_img = cv2.resize(img, (new_width, new_height))"
   ]
  },
  {
   "cell_type": "code",
   "execution_count": 16,
   "id": "6725f6a4",
   "metadata": {},
   "outputs": [
    {
     "name": "stdout",
     "output_type": "stream",
     "text": [
      "[1.         0.70571864 0.278098   0.24417262 0.        ]\n"
     ]
    }
   ],
   "source": [
    "hist = cv2.calcHist([resized_img], [0],None,[5],[0,256])\n",
    "hist = cv2.normalize(hist, hist, 0, 1, cv2.NORM_MINMAX).flatten()\n",
    "print(hist)"
   ]
  },
  {
   "cell_type": "code",
   "execution_count": 14,
   "id": "7567356b",
   "metadata": {},
   "outputs": [],
   "source": [
    "cv2.imshow('Gray image',resized_img)\n",
    "cv2.waitKey(0)\n",
    "cv2.destroyAllWindows()"
   ]
  },
  {
   "cell_type": "code",
   "execution_count": null,
   "id": "f72c2b20",
   "metadata": {},
   "outputs": [],
   "source": []
  }
 ],
 "metadata": {
  "kernelspec": {
   "display_name": "Python 3 (ipykernel)",
   "language": "python",
   "name": "python3"
  },
  "language_info": {
   "codemirror_mode": {
    "name": "ipython",
    "version": 3
   },
   "file_extension": ".py",
   "mimetype": "text/x-python",
   "name": "python",
   "nbconvert_exporter": "python",
   "pygments_lexer": "ipython3",
   "version": "3.11.4"
  }
 },
 "nbformat": 4,
 "nbformat_minor": 5
}
